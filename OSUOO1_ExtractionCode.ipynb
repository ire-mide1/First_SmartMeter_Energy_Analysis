{
 "cells": [
  {
   "cell_type": "code",
   "execution_count": 2,
   "metadata": {},
   "outputs": [],
   "source": [
    "import numpy as np\n",
    "import pandas as pd\n",
    "import matplotlib.pyplot as plt\n",
    "import seaborn as sns\n",
    "import warnings\n",
    "warnings.filterwarnings('ignore')\n",
    "\n",
    "%matplotlib inline"
   ]
  },
  {
   "cell_type": "code",
   "execution_count": 3,
   "metadata": {},
   "outputs": [
    {
     "data": {
      "text/html": [
       "<div>\n",
       "<style scoped>\n",
       "    .dataframe tbody tr th:only-of-type {\n",
       "        vertical-align: middle;\n",
       "    }\n",
       "\n",
       "    .dataframe tbody tr th {\n",
       "        vertical-align: top;\n",
       "    }\n",
       "\n",
       "    .dataframe thead th {\n",
       "        text-align: right;\n",
       "    }\n",
       "</style>\n",
       "<table border=\"1\" class=\"dataframe\">\n",
       "  <thead>\n",
       "    <tr style=\"text-align: right;\">\n",
       "      <th></th>\n",
       "      <th>id</th>\n",
       "      <th>meter_id</th>\n",
       "      <th>timestamp</th>\n",
       "      <th>current</th>\n",
       "      <th>voltage</th>\n",
       "      <th>frequency</th>\n",
       "      <th>power_factor</th>\n",
       "      <th>energy</th>\n",
       "      <th>real_power</th>\n",
       "      <th>apparent_power</th>\n",
       "    </tr>\n",
       "  </thead>\n",
       "  <tbody>\n",
       "    <tr>\n",
       "      <th>0</th>\n",
       "      <td>154455</td>\n",
       "      <td>NaN</td>\n",
       "      <td>2021-09-17T13:44:11.565462</td>\n",
       "      <td>NaN</td>\n",
       "      <td>NaN</td>\n",
       "      <td>NaN</td>\n",
       "      <td>NaN</td>\n",
       "      <td>NaN</td>\n",
       "      <td>NaN</td>\n",
       "      <td>NaN</td>\n",
       "    </tr>\n",
       "    <tr>\n",
       "      <th>1</th>\n",
       "      <td>154454</td>\n",
       "      <td>NaN</td>\n",
       "      <td>2021-09-17T13:29:23.225921</td>\n",
       "      <td>NaN</td>\n",
       "      <td>NaN</td>\n",
       "      <td>NaN</td>\n",
       "      <td>NaN</td>\n",
       "      <td>NaN</td>\n",
       "      <td>NaN</td>\n",
       "      <td>NaN</td>\n",
       "    </tr>\n",
       "    <tr>\n",
       "      <th>2</th>\n",
       "      <td>154453</td>\n",
       "      <td>LAG001</td>\n",
       "      <td>2021-09-17T10:23:52.002952</td>\n",
       "      <td>0.44</td>\n",
       "      <td>240.0</td>\n",
       "      <td>50.0</td>\n",
       "      <td>1.0</td>\n",
       "      <td>130.0</td>\n",
       "      <td>NaN</td>\n",
       "      <td>NaN</td>\n",
       "    </tr>\n",
       "    <tr>\n",
       "      <th>3</th>\n",
       "      <td>154452</td>\n",
       "      <td>LAG001</td>\n",
       "      <td>2021-09-17T10:23:40.926723</td>\n",
       "      <td>0.44</td>\n",
       "      <td>240.0</td>\n",
       "      <td>50.0</td>\n",
       "      <td>1.0</td>\n",
       "      <td>130.0</td>\n",
       "      <td>NaN</td>\n",
       "      <td>NaN</td>\n",
       "    </tr>\n",
       "    <tr>\n",
       "      <th>4</th>\n",
       "      <td>154451</td>\n",
       "      <td>LAG001</td>\n",
       "      <td>2021-09-17T10:23:30.110948</td>\n",
       "      <td>0.44</td>\n",
       "      <td>240.0</td>\n",
       "      <td>50.0</td>\n",
       "      <td>1.0</td>\n",
       "      <td>130.0</td>\n",
       "      <td>NaN</td>\n",
       "      <td>NaN</td>\n",
       "    </tr>\n",
       "  </tbody>\n",
       "</table>\n",
       "</div>"
      ],
      "text/plain": [
       "       id meter_id                   timestamp  current  voltage  frequency  \\\n",
       "0  154455      NaN  2021-09-17T13:44:11.565462      NaN      NaN        NaN   \n",
       "1  154454      NaN  2021-09-17T13:29:23.225921      NaN      NaN        NaN   \n",
       "2  154453   LAG001  2021-09-17T10:23:52.002952     0.44    240.0       50.0   \n",
       "3  154452   LAG001  2021-09-17T10:23:40.926723     0.44    240.0       50.0   \n",
       "4  154451   LAG001  2021-09-17T10:23:30.110948     0.44    240.0       50.0   \n",
       "\n",
       "   power_factor  energy  real_power  apparent_power  \n",
       "0           NaN     NaN         NaN             NaN  \n",
       "1           NaN     NaN         NaN             NaN  \n",
       "2           1.0   130.0         NaN             NaN  \n",
       "3           1.0   130.0         NaN             NaN  \n",
       "4           1.0   130.0         NaN             NaN  "
      ]
     },
     "execution_count": 3,
     "metadata": {},
     "output_type": "execute_result"
    }
   ],
   "source": [
    "df = pd.read_csv('ATLAST.csv')\n",
    "df.head()"
   ]
  },
  {
   "cell_type": "code",
   "execution_count": 4,
   "metadata": {},
   "outputs": [],
   "source": [
    "#calculate apparent power\n",
    "\n",
    "df['apparent_power'] = df['current']*df['voltage']\n",
    "\n",
    "#calculate real power\n",
    "\n",
    "df['real_power'] = df['power_factor']/ df['apparent_power']"
   ]
  },
  {
   "cell_type": "code",
   "execution_count": 5,
   "metadata": {},
   "outputs": [],
   "source": [
    "#drop nan from the categorical meter_id column and reset index\n",
    "\n",
    "df.dropna(subset = [\"meter_id\"], inplace=True)\n",
    "df.reset_index(drop=True, inplace=True)\n",
    "\n",
    "#replace inf in real_power with 0\n",
    "df.replace(to_replace= np.nan, value =0, inplace=True )"
   ]
  },
  {
   "cell_type": "code",
   "execution_count": 23,
   "metadata": {},
   "outputs": [],
   "source": [
    "#extract osu001 with all attributes\n",
    "\n",
    "OSU= df[(df['meter_id'] == 'OSU001')]\n",
    "OSU.to_csv('Complete_OSU001.csv', index= False)"
   ]
  },
  {
   "cell_type": "code",
   "execution_count": 22,
   "metadata": {},
   "outputs": [],
   "source": [
    "#extract osu001 with only timestamp and energy attribute\n",
    "\n",
    "new_osu= OSU[['timestamp', 'energy']].copy()\n",
    "new_osu = pd.DataFrame([OSU.timestamp, OSU.energy]).transpose()\n",
    "new_osu.to_csv('OSU001.csv', index =False)"
   ]
  },
  {
   "cell_type": "code",
   "execution_count": null,
   "metadata": {},
   "outputs": [],
   "source": []
  }
 ],
 "metadata": {
  "kernelspec": {
   "display_name": "Python 3",
   "language": "python",
   "name": "python3"
  },
  "language_info": {
   "codemirror_mode": {
    "name": "ipython",
    "version": 3
   },
   "file_extension": ".py",
   "mimetype": "text/x-python",
   "name": "python",
   "nbconvert_exporter": "python",
   "pygments_lexer": "ipython3",
   "version": "3.7.6"
  }
 },
 "nbformat": 4,
 "nbformat_minor": 4
}
