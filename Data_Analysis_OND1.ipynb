{
  "nbformat": 4,
  "nbformat_minor": 0,
  "metadata": {
    "kernelspec": {
      "display_name": "Python 3",
      "language": "python",
      "name": "python3"
    },
    "language_info": {
      "codemirror_mode": {
        "name": "ipython",
        "version": 3
      },
      "file_extension": ".py",
      "mimetype": "text/x-python",
      "name": "python",
      "nbconvert_exporter": "python",
      "pygments_lexer": "ipython3",
      "version": "3.7.1"
    },
    "colab": {
      "name": "Data_Analysis_OND1.ipynb",
      "provenance": [],
      "collapsed_sections": [],
      "include_colab_link": true
    }
  },
  "cells": [
    {
      "cell_type": "markdown",
      "metadata": {
        "id": "view-in-github",
        "colab_type": "text"
      },
      "source": [
        "<a href=\"https://colab.research.google.com/github/ire-mide1/SmartMeter_Energy_Analysis/blob/main/Data_Analysis_OND1.ipynb\" target=\"_parent\"><img src=\"https://colab.research.google.com/assets/colab-badge.svg\" alt=\"Open In Colab\"/></a>"
      ]
    },
    {
      "cell_type": "code",
      "metadata": {
        "id": "s4xh5KhBXErZ"
      },
      "source": [
        "import pandas as pd\n",
        "import numpy as np\n",
        "import seaborn as sns\n",
        "import matplotlib.pyplot as plt\n",
        "%matplotlib inline"
      ],
      "execution_count": null,
      "outputs": []
    },
    {
      "cell_type": "code",
      "metadata": {
        "colab": {
          "base_uri": "https://localhost:8080/"
        },
        "id": "LeKQuLqyXdCv",
        "outputId": "73bae3dc-e373-4f00-ae02-0a4b17d74d1d"
      },
      "source": [
        "from google.colab import drive\n",
        "drive.mount('/content/drive', force_remount = True)"
      ],
      "execution_count": null,
      "outputs": [
        {
          "output_type": "stream",
          "name": "stdout",
          "text": [
            "Mounted at /content/drive\n"
          ]
        }
      ]
    },
    {
      "cell_type": "code",
      "metadata": {
        "id": "cRko3nbSXrOW"
      },
      "source": [
        "df_ond1 = pd.read_csv('/content/drive/MyDrive/CSV files/ATLAST_OND1.csv')"
      ],
      "execution_count": null,
      "outputs": []
    },
    {
      "cell_type": "code",
      "metadata": {
        "colab": {
          "base_uri": "https://localhost:8080/",
          "height": 424
        },
        "id": "ujLWvML1XErd",
        "outputId": "b34d2054-92bd-460b-dd86-673a4ac44337"
      },
      "source": [
        "df_ond1"
      ],
      "execution_count": null,
      "outputs": [
        {
          "output_type": "execute_result",
          "data": {
            "text/html": [
              "<div>\n",
              "<style scoped>\n",
              "    .dataframe tbody tr th:only-of-type {\n",
              "        vertical-align: middle;\n",
              "    }\n",
              "\n",
              "    .dataframe tbody tr th {\n",
              "        vertical-align: top;\n",
              "    }\n",
              "\n",
              "    .dataframe thead th {\n",
              "        text-align: right;\n",
              "    }\n",
              "</style>\n",
              "<table border=\"1\" class=\"dataframe\">\n",
              "  <thead>\n",
              "    <tr style=\"text-align: right;\">\n",
              "      <th></th>\n",
              "      <th>id</th>\n",
              "      <th>meter_id</th>\n",
              "      <th>timestamp</th>\n",
              "      <th>current</th>\n",
              "      <th>voltage</th>\n",
              "      <th>frequency</th>\n",
              "      <th>power_factor</th>\n",
              "      <th>energy</th>\n",
              "      <th>real_power</th>\n",
              "      <th>apparent_power</th>\n",
              "    </tr>\n",
              "  </thead>\n",
              "  <tbody>\n",
              "    <tr>\n",
              "      <th>0</th>\n",
              "      <td>117606</td>\n",
              "      <td>OND001</td>\n",
              "      <td>2021-01-19T10:56:37</td>\n",
              "      <td>6.76</td>\n",
              "      <td>244.1</td>\n",
              "      <td>50.2</td>\n",
              "      <td>0.99</td>\n",
              "      <td>313.10373</td>\n",
              "      <td>0.000600</td>\n",
              "      <td>1650.116</td>\n",
              "    </tr>\n",
              "    <tr>\n",
              "      <th>1</th>\n",
              "      <td>117604</td>\n",
              "      <td>OND001</td>\n",
              "      <td>2021-01-19T10:56:00</td>\n",
              "      <td>6.77</td>\n",
              "      <td>243.6</td>\n",
              "      <td>50.2</td>\n",
              "      <td>0.99</td>\n",
              "      <td>313.08694</td>\n",
              "      <td>0.000600</td>\n",
              "      <td>1649.172</td>\n",
              "    </tr>\n",
              "    <tr>\n",
              "      <th>2</th>\n",
              "      <td>117603</td>\n",
              "      <td>OND001</td>\n",
              "      <td>2021-01-19T10:55:23</td>\n",
              "      <td>13.00</td>\n",
              "      <td>242.1</td>\n",
              "      <td>50.2</td>\n",
              "      <td>1.00</td>\n",
              "      <td>313.07016</td>\n",
              "      <td>0.000318</td>\n",
              "      <td>3147.300</td>\n",
              "    </tr>\n",
              "    <tr>\n",
              "      <th>3</th>\n",
              "      <td>117602</td>\n",
              "      <td>OND001</td>\n",
              "      <td>2021-01-19T10:54:46</td>\n",
              "      <td>13.79</td>\n",
              "      <td>241.4</td>\n",
              "      <td>50.2</td>\n",
              "      <td>0.99</td>\n",
              "      <td>313.03781</td>\n",
              "      <td>0.000297</td>\n",
              "      <td>3328.906</td>\n",
              "    </tr>\n",
              "    <tr>\n",
              "      <th>4</th>\n",
              "      <td>117600</td>\n",
              "      <td>OND001</td>\n",
              "      <td>2021-01-19T10:54:09</td>\n",
              "      <td>13.90</td>\n",
              "      <td>243.0</td>\n",
              "      <td>50.2</td>\n",
              "      <td>0.98</td>\n",
              "      <td>313.00394</td>\n",
              "      <td>0.000290</td>\n",
              "      <td>3377.700</td>\n",
              "    </tr>\n",
              "    <tr>\n",
              "      <th>...</th>\n",
              "      <td>...</td>\n",
              "      <td>...</td>\n",
              "      <td>...</td>\n",
              "      <td>...</td>\n",
              "      <td>...</td>\n",
              "      <td>...</td>\n",
              "      <td>...</td>\n",
              "      <td>...</td>\n",
              "      <td>...</td>\n",
              "      <td>...</td>\n",
              "    </tr>\n",
              "    <tr>\n",
              "      <th>6523</th>\n",
              "      <td>92174</td>\n",
              "      <td>OND001</td>\n",
              "      <td>2020-12-20T19:40:39</td>\n",
              "      <td>0.19</td>\n",
              "      <td>200.9</td>\n",
              "      <td>49.4</td>\n",
              "      <td>0.06</td>\n",
              "      <td>0.00237</td>\n",
              "      <td>0.001572</td>\n",
              "      <td>38.171</td>\n",
              "    </tr>\n",
              "    <tr>\n",
              "      <th>6524</th>\n",
              "      <td>92173</td>\n",
              "      <td>OND001</td>\n",
              "      <td>2020-12-20T19:40:01</td>\n",
              "      <td>0.00</td>\n",
              "      <td>201.5</td>\n",
              "      <td>49.4</td>\n",
              "      <td>0.00</td>\n",
              "      <td>0.00235</td>\n",
              "      <td>0.000000</td>\n",
              "      <td>0.000</td>\n",
              "    </tr>\n",
              "    <tr>\n",
              "      <th>6525</th>\n",
              "      <td>92172</td>\n",
              "      <td>OND001</td>\n",
              "      <td>2020-12-20T19:39:24</td>\n",
              "      <td>0.05</td>\n",
              "      <td>201.4</td>\n",
              "      <td>49.3</td>\n",
              "      <td>0.03</td>\n",
              "      <td>0.00235</td>\n",
              "      <td>0.002979</td>\n",
              "      <td>10.070</td>\n",
              "    </tr>\n",
              "    <tr>\n",
              "      <th>6526</th>\n",
              "      <td>92171</td>\n",
              "      <td>OND001</td>\n",
              "      <td>2020-12-20T19:38:11</td>\n",
              "      <td>0.00</td>\n",
              "      <td>201.2</td>\n",
              "      <td>49.1</td>\n",
              "      <td>0.00</td>\n",
              "      <td>0.00232</td>\n",
              "      <td>0.000000</td>\n",
              "      <td>0.000</td>\n",
              "    </tr>\n",
              "    <tr>\n",
              "      <th>6527</th>\n",
              "      <td>92170</td>\n",
              "      <td>OND001</td>\n",
              "      <td>2020-12-20T19:37:33</td>\n",
              "      <td>0.00</td>\n",
              "      <td>200.3</td>\n",
              "      <td>49.0</td>\n",
              "      <td>0.00</td>\n",
              "      <td>0.00232</td>\n",
              "      <td>0.000000</td>\n",
              "      <td>0.000</td>\n",
              "    </tr>\n",
              "  </tbody>\n",
              "</table>\n",
              "<p>6528 rows × 10 columns</p>\n",
              "</div>"
            ],
            "text/plain": [
              "          id meter_id  ... real_power  apparent_power\n",
              "0     117606   OND001  ...   0.000600        1650.116\n",
              "1     117604   OND001  ...   0.000600        1649.172\n",
              "2     117603   OND001  ...   0.000318        3147.300\n",
              "3     117602   OND001  ...   0.000297        3328.906\n",
              "4     117600   OND001  ...   0.000290        3377.700\n",
              "...      ...      ...  ...        ...             ...\n",
              "6523   92174   OND001  ...   0.001572          38.171\n",
              "6524   92173   OND001  ...   0.000000           0.000\n",
              "6525   92172   OND001  ...   0.002979          10.070\n",
              "6526   92171   OND001  ...   0.000000           0.000\n",
              "6527   92170   OND001  ...   0.000000           0.000\n",
              "\n",
              "[6528 rows x 10 columns]"
            ]
          },
          "metadata": {},
          "execution_count": 4
        }
      ]
    },
    {
      "cell_type": "code",
      "metadata": {
        "colab": {
          "base_uri": "https://localhost:8080/"
        },
        "id": "RkI3pr-kXEre",
        "outputId": "a5d5742e-e2c1-4ba6-d22a-8ea6ef77d927"
      },
      "source": [
        "df_ond1.info()"
      ],
      "execution_count": null,
      "outputs": [
        {
          "output_type": "stream",
          "name": "stdout",
          "text": [
            "<class 'pandas.core.frame.DataFrame'>\n",
            "RangeIndex: 6528 entries, 0 to 6527\n",
            "Data columns (total 10 columns):\n",
            " #   Column          Non-Null Count  Dtype  \n",
            "---  ------          --------------  -----  \n",
            " 0   id              6528 non-null   int64  \n",
            " 1   meter_id        6528 non-null   object \n",
            " 2   timestamp       6528 non-null   object \n",
            " 3   current         6528 non-null   float64\n",
            " 4   voltage         6528 non-null   float64\n",
            " 5   frequency       6528 non-null   float64\n",
            " 6   power_factor    6528 non-null   float64\n",
            " 7   energy          6528 non-null   float64\n",
            " 8   real_power      6528 non-null   float64\n",
            " 9   apparent_power  6528 non-null   float64\n",
            "dtypes: float64(7), int64(1), object(2)\n",
            "memory usage: 510.1+ KB\n"
          ]
        }
      ]
    },
    {
      "cell_type": "code",
      "metadata": {
        "colab": {
          "base_uri": "https://localhost:8080/",
          "height": 300
        },
        "id": "fwgtd7woXEre",
        "outputId": "ce61c519-a356-4fc2-fd0a-a77e52c48bc6"
      },
      "source": [
        "df_ond1.describe().transpose()"
      ],
      "execution_count": null,
      "outputs": [
        {
          "output_type": "execute_result",
          "data": {
            "text/html": [
              "<div>\n",
              "<style scoped>\n",
              "    .dataframe tbody tr th:only-of-type {\n",
              "        vertical-align: middle;\n",
              "    }\n",
              "\n",
              "    .dataframe tbody tr th {\n",
              "        vertical-align: top;\n",
              "    }\n",
              "\n",
              "    .dataframe thead th {\n",
              "        text-align: right;\n",
              "    }\n",
              "</style>\n",
              "<table border=\"1\" class=\"dataframe\">\n",
              "  <thead>\n",
              "    <tr style=\"text-align: right;\">\n",
              "      <th></th>\n",
              "      <th>count</th>\n",
              "      <th>mean</th>\n",
              "      <th>std</th>\n",
              "      <th>min</th>\n",
              "      <th>25%</th>\n",
              "      <th>50%</th>\n",
              "      <th>75%</th>\n",
              "      <th>max</th>\n",
              "    </tr>\n",
              "  </thead>\n",
              "  <tbody>\n",
              "    <tr>\n",
              "      <th>id</th>\n",
              "      <td>6528.0</td>\n",
              "      <td>1.057050e+05</td>\n",
              "      <td>6155.658721</td>\n",
              "      <td>92170.000</td>\n",
              "      <td>100978.250000</td>\n",
              "      <td>105537.000000</td>\n",
              "      <td>110273.250000</td>\n",
              "      <td>1.176060e+05</td>\n",
              "    </tr>\n",
              "    <tr>\n",
              "      <th>current</th>\n",
              "      <td>6528.0</td>\n",
              "      <td>5.361918e+00</td>\n",
              "      <td>11.054620</td>\n",
              "      <td>0.000</td>\n",
              "      <td>0.520000</td>\n",
              "      <td>0.550000</td>\n",
              "      <td>4.267500</td>\n",
              "      <td>7.034000e+01</td>\n",
              "    </tr>\n",
              "    <tr>\n",
              "      <th>voltage</th>\n",
              "      <td>6528.0</td>\n",
              "      <td>2.194265e+02</td>\n",
              "      <td>19.351975</td>\n",
              "      <td>0.000</td>\n",
              "      <td>213.000000</td>\n",
              "      <td>222.300000</td>\n",
              "      <td>231.200000</td>\n",
              "      <td>2.595000e+02</td>\n",
              "    </tr>\n",
              "    <tr>\n",
              "      <th>frequency</th>\n",
              "      <td>6528.0</td>\n",
              "      <td>5.000697e+01</td>\n",
              "      <td>1.440761</td>\n",
              "      <td>0.000</td>\n",
              "      <td>50.000000</td>\n",
              "      <td>50.100000</td>\n",
              "      <td>50.200000</td>\n",
              "      <td>5.100000e+01</td>\n",
              "    </tr>\n",
              "    <tr>\n",
              "      <th>power_factor</th>\n",
              "      <td>6528.0</td>\n",
              "      <td>6.162806e-01</td>\n",
              "      <td>0.195151</td>\n",
              "      <td>0.000</td>\n",
              "      <td>0.520000</td>\n",
              "      <td>0.540000</td>\n",
              "      <td>0.580000</td>\n",
              "      <td>1.000000e+00</td>\n",
              "    </tr>\n",
              "    <tr>\n",
              "      <th>energy</th>\n",
              "      <td>6528.0</td>\n",
              "      <td>8.255638e+01</td>\n",
              "      <td>80.415924</td>\n",
              "      <td>0.001</td>\n",
              "      <td>4.874447</td>\n",
              "      <td>70.059775</td>\n",
              "      <td>131.578190</td>\n",
              "      <td>3.131037e+02</td>\n",
              "    </tr>\n",
              "    <tr>\n",
              "      <th>real_power</th>\n",
              "      <td>6528.0</td>\n",
              "      <td>inf</td>\n",
              "      <td>NaN</td>\n",
              "      <td>0.000</td>\n",
              "      <td>0.000834</td>\n",
              "      <td>0.004186</td>\n",
              "      <td>0.004608</td>\n",
              "      <td>inf</td>\n",
              "    </tr>\n",
              "    <tr>\n",
              "      <th>apparent_power</th>\n",
              "      <td>6528.0</td>\n",
              "      <td>1.092877e+03</td>\n",
              "      <td>2213.208442</td>\n",
              "      <td>0.000</td>\n",
              "      <td>118.524750</td>\n",
              "      <td>124.888000</td>\n",
              "      <td>815.769000</td>\n",
              "      <td>1.536226e+04</td>\n",
              "    </tr>\n",
              "  </tbody>\n",
              "</table>\n",
              "</div>"
            ],
            "text/plain": [
              "                 count          mean  ...            75%           max\n",
              "id              6528.0  1.057050e+05  ...  110273.250000  1.176060e+05\n",
              "current         6528.0  5.361918e+00  ...       4.267500  7.034000e+01\n",
              "voltage         6528.0  2.194265e+02  ...     231.200000  2.595000e+02\n",
              "frequency       6528.0  5.000697e+01  ...      50.200000  5.100000e+01\n",
              "power_factor    6528.0  6.162806e-01  ...       0.580000  1.000000e+00\n",
              "energy          6528.0  8.255638e+01  ...     131.578190  3.131037e+02\n",
              "real_power      6528.0           inf  ...       0.004608           inf\n",
              "apparent_power  6528.0  1.092877e+03  ...     815.769000  1.536226e+04\n",
              "\n",
              "[8 rows x 8 columns]"
            ]
          },
          "metadata": {},
          "execution_count": 6
        }
      ]
    },
    {
      "cell_type": "code",
      "metadata": {
        "colab": {
          "base_uri": "https://localhost:8080/",
          "height": 206
        },
        "id": "Aok3QyozXErf",
        "outputId": "557bad4c-797d-4f68-fb80-8e965127e103"
      },
      "source": [
        "df_ond1.head()"
      ],
      "execution_count": null,
      "outputs": [
        {
          "output_type": "execute_result",
          "data": {
            "text/html": [
              "<div>\n",
              "<style scoped>\n",
              "    .dataframe tbody tr th:only-of-type {\n",
              "        vertical-align: middle;\n",
              "    }\n",
              "\n",
              "    .dataframe tbody tr th {\n",
              "        vertical-align: top;\n",
              "    }\n",
              "\n",
              "    .dataframe thead th {\n",
              "        text-align: right;\n",
              "    }\n",
              "</style>\n",
              "<table border=\"1\" class=\"dataframe\">\n",
              "  <thead>\n",
              "    <tr style=\"text-align: right;\">\n",
              "      <th></th>\n",
              "      <th>id</th>\n",
              "      <th>meter_id</th>\n",
              "      <th>timestamp</th>\n",
              "      <th>current</th>\n",
              "      <th>voltage</th>\n",
              "      <th>frequency</th>\n",
              "      <th>power_factor</th>\n",
              "      <th>energy</th>\n",
              "      <th>real_power</th>\n",
              "      <th>apparent_power</th>\n",
              "    </tr>\n",
              "  </thead>\n",
              "  <tbody>\n",
              "    <tr>\n",
              "      <th>0</th>\n",
              "      <td>117606</td>\n",
              "      <td>OND001</td>\n",
              "      <td>2021-01-19T10:56:37</td>\n",
              "      <td>6.76</td>\n",
              "      <td>244.1</td>\n",
              "      <td>50.2</td>\n",
              "      <td>0.99</td>\n",
              "      <td>313.10373</td>\n",
              "      <td>0.000600</td>\n",
              "      <td>1650.116</td>\n",
              "    </tr>\n",
              "    <tr>\n",
              "      <th>1</th>\n",
              "      <td>117604</td>\n",
              "      <td>OND001</td>\n",
              "      <td>2021-01-19T10:56:00</td>\n",
              "      <td>6.77</td>\n",
              "      <td>243.6</td>\n",
              "      <td>50.2</td>\n",
              "      <td>0.99</td>\n",
              "      <td>313.08694</td>\n",
              "      <td>0.000600</td>\n",
              "      <td>1649.172</td>\n",
              "    </tr>\n",
              "    <tr>\n",
              "      <th>2</th>\n",
              "      <td>117603</td>\n",
              "      <td>OND001</td>\n",
              "      <td>2021-01-19T10:55:23</td>\n",
              "      <td>13.00</td>\n",
              "      <td>242.1</td>\n",
              "      <td>50.2</td>\n",
              "      <td>1.00</td>\n",
              "      <td>313.07016</td>\n",
              "      <td>0.000318</td>\n",
              "      <td>3147.300</td>\n",
              "    </tr>\n",
              "    <tr>\n",
              "      <th>3</th>\n",
              "      <td>117602</td>\n",
              "      <td>OND001</td>\n",
              "      <td>2021-01-19T10:54:46</td>\n",
              "      <td>13.79</td>\n",
              "      <td>241.4</td>\n",
              "      <td>50.2</td>\n",
              "      <td>0.99</td>\n",
              "      <td>313.03781</td>\n",
              "      <td>0.000297</td>\n",
              "      <td>3328.906</td>\n",
              "    </tr>\n",
              "    <tr>\n",
              "      <th>4</th>\n",
              "      <td>117600</td>\n",
              "      <td>OND001</td>\n",
              "      <td>2021-01-19T10:54:09</td>\n",
              "      <td>13.90</td>\n",
              "      <td>243.0</td>\n",
              "      <td>50.2</td>\n",
              "      <td>0.98</td>\n",
              "      <td>313.00394</td>\n",
              "      <td>0.000290</td>\n",
              "      <td>3377.700</td>\n",
              "    </tr>\n",
              "  </tbody>\n",
              "</table>\n",
              "</div>"
            ],
            "text/plain": [
              "       id meter_id            timestamp  ...     energy  real_power  apparent_power\n",
              "0  117606   OND001  2021-01-19T10:56:37  ...  313.10373    0.000600        1650.116\n",
              "1  117604   OND001  2021-01-19T10:56:00  ...  313.08694    0.000600        1649.172\n",
              "2  117603   OND001  2021-01-19T10:55:23  ...  313.07016    0.000318        3147.300\n",
              "3  117602   OND001  2021-01-19T10:54:46  ...  313.03781    0.000297        3328.906\n",
              "4  117600   OND001  2021-01-19T10:54:09  ...  313.00394    0.000290        3377.700\n",
              "\n",
              "[5 rows x 10 columns]"
            ]
          },
          "metadata": {},
          "execution_count": 7
        }
      ]
    },
    {
      "cell_type": "code",
      "metadata": {
        "id": "YoWQEZfXXErf"
      },
      "source": [
        "df_ond1['timestamp'] = pd.to_datetime(df_ond1['timestamp'],\n",
        "                                      format = '%Y-%m-%dT%H:%M:%S',\n",
        "                                      errors = 'coerce')"
      ],
      "execution_count": null,
      "outputs": []
    },
    {
      "cell_type": "code",
      "metadata": {
        "colab": {
          "base_uri": "https://localhost:8080/"
        },
        "id": "WZduYemMXErg",
        "outputId": "e56a6d5b-b047-44e4-be62-6408bb0a6895"
      },
      "source": [
        "df_ond1['year'] = df_ond1['timestamp'].dt.year\n",
        "df_ond1['month'] = df_ond1['timestamp'].dt.month\n",
        "df_ond1['week'] = df_ond1['timestamp'].dt.week\n",
        "df_ond1['day'] = df_ond1['timestamp'].dt.day\n",
        "df_ond1['hour'] = df_ond1['timestamp'].dt.hour\n",
        "df_ond1['minute'] = df_ond1['timestamp'].dt.minute\n",
        "df_ond1['second'] = df_ond1['timestamp'].dt.second\n",
        "df_ond1['day_of_week'] = df_ond1['timestamp'].dt.dayofweek"
      ],
      "execution_count": null,
      "outputs": [
        {
          "output_type": "stream",
          "name": "stderr",
          "text": [
            "/usr/local/lib/python3.7/dist-packages/ipykernel_launcher.py:3: FutureWarning: Series.dt.weekofyear and Series.dt.week have been deprecated.  Please use Series.dt.isocalendar().week instead.\n",
            "  This is separate from the ipykernel package so we can avoid doing imports until\n"
          ]
        }
      ]
    },
    {
      "cell_type": "code",
      "metadata": {
        "colab": {
          "base_uri": "https://localhost:8080/",
          "height": 400
        },
        "id": "ahdqpvCVXErg",
        "outputId": "ba4d6897-e2d8-4616-866f-a7d6dea40ae4"
      },
      "source": [
        "df_ond1.head()"
      ],
      "execution_count": null,
      "outputs": [
        {
          "output_type": "execute_result",
          "data": {
            "text/html": [
              "<div>\n",
              "<style scoped>\n",
              "    .dataframe tbody tr th:only-of-type {\n",
              "        vertical-align: middle;\n",
              "    }\n",
              "\n",
              "    .dataframe tbody tr th {\n",
              "        vertical-align: top;\n",
              "    }\n",
              "\n",
              "    .dataframe thead th {\n",
              "        text-align: right;\n",
              "    }\n",
              "</style>\n",
              "<table border=\"1\" class=\"dataframe\">\n",
              "  <thead>\n",
              "    <tr style=\"text-align: right;\">\n",
              "      <th></th>\n",
              "      <th>id</th>\n",
              "      <th>meter_id</th>\n",
              "      <th>timestamp</th>\n",
              "      <th>current</th>\n",
              "      <th>voltage</th>\n",
              "      <th>frequency</th>\n",
              "      <th>power_factor</th>\n",
              "      <th>energy</th>\n",
              "      <th>real_power</th>\n",
              "      <th>apparent_power</th>\n",
              "      <th>year</th>\n",
              "      <th>month</th>\n",
              "      <th>week</th>\n",
              "      <th>day</th>\n",
              "      <th>hour</th>\n",
              "      <th>minute</th>\n",
              "      <th>second</th>\n",
              "      <th>day_of_week</th>\n",
              "    </tr>\n",
              "  </thead>\n",
              "  <tbody>\n",
              "    <tr>\n",
              "      <th>0</th>\n",
              "      <td>117606</td>\n",
              "      <td>OND001</td>\n",
              "      <td>2021-01-19 10:56:37</td>\n",
              "      <td>6.76</td>\n",
              "      <td>244.1</td>\n",
              "      <td>50.2</td>\n",
              "      <td>0.99</td>\n",
              "      <td>313.10373</td>\n",
              "      <td>0.000600</td>\n",
              "      <td>1650.116</td>\n",
              "      <td>2021</td>\n",
              "      <td>1</td>\n",
              "      <td>3</td>\n",
              "      <td>19</td>\n",
              "      <td>10</td>\n",
              "      <td>56</td>\n",
              "      <td>37</td>\n",
              "      <td>1</td>\n",
              "    </tr>\n",
              "    <tr>\n",
              "      <th>1</th>\n",
              "      <td>117604</td>\n",
              "      <td>OND001</td>\n",
              "      <td>2021-01-19 10:56:00</td>\n",
              "      <td>6.77</td>\n",
              "      <td>243.6</td>\n",
              "      <td>50.2</td>\n",
              "      <td>0.99</td>\n",
              "      <td>313.08694</td>\n",
              "      <td>0.000600</td>\n",
              "      <td>1649.172</td>\n",
              "      <td>2021</td>\n",
              "      <td>1</td>\n",
              "      <td>3</td>\n",
              "      <td>19</td>\n",
              "      <td>10</td>\n",
              "      <td>56</td>\n",
              "      <td>0</td>\n",
              "      <td>1</td>\n",
              "    </tr>\n",
              "    <tr>\n",
              "      <th>2</th>\n",
              "      <td>117603</td>\n",
              "      <td>OND001</td>\n",
              "      <td>2021-01-19 10:55:23</td>\n",
              "      <td>13.00</td>\n",
              "      <td>242.1</td>\n",
              "      <td>50.2</td>\n",
              "      <td>1.00</td>\n",
              "      <td>313.07016</td>\n",
              "      <td>0.000318</td>\n",
              "      <td>3147.300</td>\n",
              "      <td>2021</td>\n",
              "      <td>1</td>\n",
              "      <td>3</td>\n",
              "      <td>19</td>\n",
              "      <td>10</td>\n",
              "      <td>55</td>\n",
              "      <td>23</td>\n",
              "      <td>1</td>\n",
              "    </tr>\n",
              "    <tr>\n",
              "      <th>3</th>\n",
              "      <td>117602</td>\n",
              "      <td>OND001</td>\n",
              "      <td>2021-01-19 10:54:46</td>\n",
              "      <td>13.79</td>\n",
              "      <td>241.4</td>\n",
              "      <td>50.2</td>\n",
              "      <td>0.99</td>\n",
              "      <td>313.03781</td>\n",
              "      <td>0.000297</td>\n",
              "      <td>3328.906</td>\n",
              "      <td>2021</td>\n",
              "      <td>1</td>\n",
              "      <td>3</td>\n",
              "      <td>19</td>\n",
              "      <td>10</td>\n",
              "      <td>54</td>\n",
              "      <td>46</td>\n",
              "      <td>1</td>\n",
              "    </tr>\n",
              "    <tr>\n",
              "      <th>4</th>\n",
              "      <td>117600</td>\n",
              "      <td>OND001</td>\n",
              "      <td>2021-01-19 10:54:09</td>\n",
              "      <td>13.90</td>\n",
              "      <td>243.0</td>\n",
              "      <td>50.2</td>\n",
              "      <td>0.98</td>\n",
              "      <td>313.00394</td>\n",
              "      <td>0.000290</td>\n",
              "      <td>3377.700</td>\n",
              "      <td>2021</td>\n",
              "      <td>1</td>\n",
              "      <td>3</td>\n",
              "      <td>19</td>\n",
              "      <td>10</td>\n",
              "      <td>54</td>\n",
              "      <td>9</td>\n",
              "      <td>1</td>\n",
              "    </tr>\n",
              "  </tbody>\n",
              "</table>\n",
              "</div>"
            ],
            "text/plain": [
              "       id meter_id           timestamp  ...  minute  second  day_of_week\n",
              "0  117606   OND001 2021-01-19 10:56:37  ...      56      37            1\n",
              "1  117604   OND001 2021-01-19 10:56:00  ...      56       0            1\n",
              "2  117603   OND001 2021-01-19 10:55:23  ...      55      23            1\n",
              "3  117602   OND001 2021-01-19 10:54:46  ...      54      46            1\n",
              "4  117600   OND001 2021-01-19 10:54:09  ...      54       9            1\n",
              "\n",
              "[5 rows x 18 columns]"
            ]
          },
          "metadata": {},
          "execution_count": 8
        }
      ]
    },
    {
      "cell_type": "code",
      "metadata": {
        "colab": {
          "base_uri": "https://localhost:8080/"
        },
        "id": "KcVqS7O7XErh",
        "outputId": "ea37c73e-6b75-490f-a67a-f9f6e27d97a7"
      },
      "source": [
        "#to check if there is any missing values in your data.the number of missing values will be shown\n",
        "\n",
        "pd.isnull(df_ond1).sum()"
      ],
      "execution_count": null,
      "outputs": [
        {
          "output_type": "execute_result",
          "data": {
            "text/plain": [
              "id                0\n",
              "meter_id          0\n",
              "timestamp         0\n",
              "current           0\n",
              "voltage           0\n",
              "frequency         0\n",
              "power_factor      0\n",
              "energy            0\n",
              "real_power        0\n",
              "apparent_power    0\n",
              "year              0\n",
              "month             0\n",
              "week              0\n",
              "day               0\n",
              "hour              0\n",
              "minute            0\n",
              "second            0\n",
              "day_of_week       0\n",
              "dtype: int64"
            ]
          },
          "metadata": {},
          "execution_count": 9
        }
      ]
    },
    {
      "cell_type": "code",
      "metadata": {
        "colab": {
          "base_uri": "https://localhost:8080/"
        },
        "id": "JHPiLFYrcVbW",
        "outputId": "9a688403-51d6-4416-da40-0837f9ded7f7"
      },
      "source": [
        "#Check if the day of week that was extracted from date is the same data count as the data_ond1 count\n",
        "\n",
        "D_O_W = df_ond1['day_of_week'].count()\n",
        "D_C = len(df_ond1)\n",
        "if D_O_W == D_C:\n",
        "  print('There is no missing datapoint')\n",
        "else:\n",
        "  print(\"You've got a missing value\")\n",
        "\n",
        "df_ond1['day_of_week'].value_counts()  "
      ],
      "execution_count": null,
      "outputs": [
        {
          "output_type": "stream",
          "name": "stdout",
          "text": [
            "There is no missing datapoint\n"
          ]
        },
        {
          "output_type": "execute_result",
          "data": {
            "text/plain": [
              "6    1585\n",
              "3    1358\n",
              "0    1123\n",
              "5     975\n",
              "1     590\n",
              "4     504\n",
              "2     393\n",
              "Name: day_of_week, dtype: int64"
            ]
          },
          "metadata": {},
          "execution_count": 23
        }
      ]
    },
    {
      "cell_type": "code",
      "metadata": {
        "colab": {
          "base_uri": "https://localhost:8080/",
          "height": 206
        },
        "id": "VGgBlcb-XEri",
        "outputId": "ecd5bd68-a9c7-47ff-cb01-b574e4f8d088"
      },
      "source": [
        "#convert days_of week to categorical attribute\n",
        "df_ond1['day_of_week']= df_ond1['day_of_week'].map({1: 'Tuesday' , 2: 'Wednesday',\n",
        "                                                    3:'Thursday', 4: 'Friday', 5: 'Saturday',\n",
        "                                                    6: 'Sunday', 7: 'Monday'})\n",
        "df_ond1.head()"
      ],
      "execution_count": null,
      "outputs": [
        {
          "output_type": "execute_result",
          "data": {
            "text/html": [
              "<div>\n",
              "<style scoped>\n",
              "    .dataframe tbody tr th:only-of-type {\n",
              "        vertical-align: middle;\n",
              "    }\n",
              "\n",
              "    .dataframe tbody tr th {\n",
              "        vertical-align: top;\n",
              "    }\n",
              "\n",
              "    .dataframe thead th {\n",
              "        text-align: right;\n",
              "    }\n",
              "</style>\n",
              "<table border=\"1\" class=\"dataframe\">\n",
              "  <thead>\n",
              "    <tr style=\"text-align: right;\">\n",
              "      <th></th>\n",
              "      <th>id</th>\n",
              "      <th>meter_id</th>\n",
              "      <th>timestamp</th>\n",
              "      <th>current</th>\n",
              "      <th>voltage</th>\n",
              "      <th>frequency</th>\n",
              "      <th>power_factor</th>\n",
              "      <th>energy</th>\n",
              "      <th>real_power</th>\n",
              "      <th>apparent_power</th>\n",
              "      <th>year</th>\n",
              "      <th>month</th>\n",
              "      <th>week</th>\n",
              "      <th>day</th>\n",
              "      <th>hour</th>\n",
              "      <th>minute</th>\n",
              "      <th>second</th>\n",
              "      <th>day_of_week</th>\n",
              "    </tr>\n",
              "  </thead>\n",
              "  <tbody>\n",
              "    <tr>\n",
              "      <th>0</th>\n",
              "      <td>117606</td>\n",
              "      <td>OND001</td>\n",
              "      <td>2021-01-19 10:56:37</td>\n",
              "      <td>6.76</td>\n",
              "      <td>244.1</td>\n",
              "      <td>50.2</td>\n",
              "      <td>0.99</td>\n",
              "      <td>313.10373</td>\n",
              "      <td>0.000600</td>\n",
              "      <td>1650.116</td>\n",
              "      <td>2021</td>\n",
              "      <td>1</td>\n",
              "      <td>3</td>\n",
              "      <td>19</td>\n",
              "      <td>10</td>\n",
              "      <td>56</td>\n",
              "      <td>37</td>\n",
              "      <td>Tuesday</td>\n",
              "    </tr>\n",
              "    <tr>\n",
              "      <th>1</th>\n",
              "      <td>117604</td>\n",
              "      <td>OND001</td>\n",
              "      <td>2021-01-19 10:56:00</td>\n",
              "      <td>6.77</td>\n",
              "      <td>243.6</td>\n",
              "      <td>50.2</td>\n",
              "      <td>0.99</td>\n",
              "      <td>313.08694</td>\n",
              "      <td>0.000600</td>\n",
              "      <td>1649.172</td>\n",
              "      <td>2021</td>\n",
              "      <td>1</td>\n",
              "      <td>3</td>\n",
              "      <td>19</td>\n",
              "      <td>10</td>\n",
              "      <td>56</td>\n",
              "      <td>0</td>\n",
              "      <td>Tuesday</td>\n",
              "    </tr>\n",
              "    <tr>\n",
              "      <th>2</th>\n",
              "      <td>117603</td>\n",
              "      <td>OND001</td>\n",
              "      <td>2021-01-19 10:55:23</td>\n",
              "      <td>13.00</td>\n",
              "      <td>242.1</td>\n",
              "      <td>50.2</td>\n",
              "      <td>1.00</td>\n",
              "      <td>313.07016</td>\n",
              "      <td>0.000318</td>\n",
              "      <td>3147.300</td>\n",
              "      <td>2021</td>\n",
              "      <td>1</td>\n",
              "      <td>3</td>\n",
              "      <td>19</td>\n",
              "      <td>10</td>\n",
              "      <td>55</td>\n",
              "      <td>23</td>\n",
              "      <td>Tuesday</td>\n",
              "    </tr>\n",
              "    <tr>\n",
              "      <th>3</th>\n",
              "      <td>117602</td>\n",
              "      <td>OND001</td>\n",
              "      <td>2021-01-19 10:54:46</td>\n",
              "      <td>13.79</td>\n",
              "      <td>241.4</td>\n",
              "      <td>50.2</td>\n",
              "      <td>0.99</td>\n",
              "      <td>313.03781</td>\n",
              "      <td>0.000297</td>\n",
              "      <td>3328.906</td>\n",
              "      <td>2021</td>\n",
              "      <td>1</td>\n",
              "      <td>3</td>\n",
              "      <td>19</td>\n",
              "      <td>10</td>\n",
              "      <td>54</td>\n",
              "      <td>46</td>\n",
              "      <td>Tuesday</td>\n",
              "    </tr>\n",
              "    <tr>\n",
              "      <th>4</th>\n",
              "      <td>117600</td>\n",
              "      <td>OND001</td>\n",
              "      <td>2021-01-19 10:54:09</td>\n",
              "      <td>13.90</td>\n",
              "      <td>243.0</td>\n",
              "      <td>50.2</td>\n",
              "      <td>0.98</td>\n",
              "      <td>313.00394</td>\n",
              "      <td>0.000290</td>\n",
              "      <td>3377.700</td>\n",
              "      <td>2021</td>\n",
              "      <td>1</td>\n",
              "      <td>3</td>\n",
              "      <td>19</td>\n",
              "      <td>10</td>\n",
              "      <td>54</td>\n",
              "      <td>9</td>\n",
              "      <td>Tuesday</td>\n",
              "    </tr>\n",
              "  </tbody>\n",
              "</table>\n",
              "</div>"
            ],
            "text/plain": [
              "       id meter_id           timestamp  ...  minute  second  day_of_week\n",
              "0  117606   OND001 2021-01-19 10:56:37  ...      56      37      Tuesday\n",
              "1  117604   OND001 2021-01-19 10:56:00  ...      56       0      Tuesday\n",
              "2  117603   OND001 2021-01-19 10:55:23  ...      55      23      Tuesday\n",
              "3  117602   OND001 2021-01-19 10:54:46  ...      54      46      Tuesday\n",
              "4  117600   OND001 2021-01-19 10:54:09  ...      54       9      Tuesday\n",
              "\n",
              "[5 rows x 18 columns]"
            ]
          },
          "metadata": {},
          "execution_count": 10
        }
      ]
    },
    {
      "cell_type": "code",
      "metadata": {
        "colab": {
          "base_uri": "https://localhost:8080/"
        },
        "id": "xdGihgzGXEri",
        "outputId": "dfa33e46-6ac1-4639-94e5-15ff72ab6b25"
      },
      "source": [
        "#day of the week got more datapoint\n",
        "\n",
        "df_ond1.groupby('day_of_week').size()"
      ],
      "execution_count": null,
      "outputs": [
        {
          "output_type": "execute_result",
          "data": {
            "text/plain": [
              "day_of_week\n",
              "Friday        504\n",
              "Saturday      975\n",
              "Sunday       1585\n",
              "Thursday     1358\n",
              "Tuesday       590\n",
              "Wednesday     393\n",
              "dtype: int64"
            ]
          },
          "metadata": {},
          "execution_count": 11
        }
      ]
    },
    {
      "cell_type": "code",
      "metadata": {
        "colab": {
          "base_uri": "https://localhost:8080/",
          "height": 368
        },
        "id": "8ngmNvwHXEri",
        "outputId": "c12ac09a-93ab-4d0e-adca-65aa15595f5a"
      },
      "source": [
        "plt.figure(figsize =(8,5))\n",
        "sns.countplot(x ='day_of_week', data= df_ond1, orient='h', \n",
        "             facecolor=(0, 0, 0, 0),\n",
        "                   linewidth=5,\n",
        "                   edgecolor=sns.color_palette(\"dark\", 3))\n",
        "plt.title('How frequently the meter read per day')\n",
        "plt.xlabel(\"X axis label\")\n",
        "plt.ylabel(\"Y axis label\")"
      ],
      "execution_count": null,
      "outputs": [
        {
          "output_type": "execute_result",
          "data": {
            "text/plain": [
              "Text(0, 0.5, 'Y axis label')"
            ]
          },
          "metadata": {},
          "execution_count": 12
        },
        {
          "output_type": "display_data",
          "data": {
            "image/png": "[encoded data removed]",
            "text/plain": [
              "<Figure size 576x360 with 1 Axes>"
            ]
          },
          "metadata": {
            "needs_background": "light"
          }
        }
      ]
    },
    {
      "cell_type": "code",
      "metadata": {
        "id": "xsqLr1UzXErj"
      },
      "source": [
        "##Sunday is the day when people use most electricity and the meter reads more data"
      ],
      "execution_count": null,
      "outputs": []
    },
    {
      "cell_type": "code",
      "metadata": {
        "colab": {
          "base_uri": "https://localhost:8080/"
        },
        "id": "1oSOsPvWXErj",
        "outputId": "92e1aca1-37a9-483e-8a34-b82dac16a126"
      },
      "source": [
        "df_ond1['week'].unique()"
      ],
      "execution_count": null,
      "outputs": [
        {
          "output_type": "execute_result",
          "data": {
            "text/plain": [
              "array([ 3,  2,  1, 53, 52, 51])"
            ]
          },
          "metadata": {},
          "execution_count": 18
        }
      ]
    },
    {
      "cell_type": "code",
      "metadata": {
        "colab": {
          "base_uri": "https://localhost:8080/",
          "height": 352
        },
        "id": "acC4vu07XErj",
        "outputId": "2e9fe7b0-355f-4215-ca71-b8985604e814"
      },
      "source": [
        "plt.figure(figsize =(8,5))\n",
        "sns.countplot(x ='week', data= df_ond1, orient='h', \n",
        "              order=df_ond1['week'].value_counts().index,\n",
        "              facecolor=(0, 0, 0, 0),\n",
        "              linewidth=5,\n",
        "              edgecolor=sns.color_palette(\"dark\", 3))"
      ],
      "execution_count": null,
      "outputs": [
        {
          "output_type": "execute_result",
          "data": {
            "text/plain": [
              "<matplotlib.axes._subplots.AxesSubplot at 0x7fb11eea1d50>"
            ]
          },
          "metadata": {},
          "execution_count": 19
        },
        {
          "output_type": "display_data",
          "data": {
            "image/png": "[encoded data removed]",
            "text/plain": [
              "<Figure size 576x360 with 1 Axes>"
            ]
          },
          "metadata": {
            "needs_background": "light"
          }
        }
      ]
    },
    {
      "cell_type": "code",
      "metadata": {
        "id": "le5gfjcrXErk"
      },
      "source": [
        "##The first week of the year has the highest datapoint since it is festive period."
      ],
      "execution_count": null,
      "outputs": []
    },
    {
      "cell_type": "code",
      "metadata": {
        "colab": {
          "base_uri": "https://localhost:8080/"
        },
        "id": "vAo-8YUzXErk",
        "outputId": "6d28b8f6-f1c5-41e9-d308-683ac9910080"
      },
      "source": [
        "df_ond1['frequency'].unique()"
      ],
      "execution_count": null,
      "outputs": [
        {
          "output_type": "execute_result",
          "data": {
            "text/plain": [
              "array([50.2, 50.3, 49.2, 49. , 48.9, 49.4, 49.6, 50. , 49.8, 49.1, 50.5,\n",
              "       50.1, 49.7, 49.9, 49.3, 49.5, 48.8, 48.7, 50.4, 48.6, 50.6, 50.7,\n",
              "       48.3, 48.1, 48. , 50.8, 48.5, 48.4, 44.3, 47.8, 44.2, 47.9, 48.2,\n",
              "       50.9, 51. ,  0. ])"
            ]
          },
          "metadata": {},
          "execution_count": 21
        }
      ]
    },
    {
      "cell_type": "code",
      "metadata": {
        "colab": {
          "base_uri": "https://localhost:8080/"
        },
        "id": "QAWI6c9yXErk",
        "outputId": "4e53566b-eac3-417b-eee9-22b02dd9e98a"
      },
      "source": [
        "df_ond1['frequency'].mean()"
      ],
      "execution_count": null,
      "outputs": [
        {
          "output_type": "execute_result",
          "data": {
            "text/plain": [
              "50.00696997549085"
            ]
          },
          "metadata": {},
          "execution_count": 22
        }
      ]
    },
    {
      "cell_type": "code",
      "metadata": {
        "colab": {
          "base_uri": "https://localhost:8080/",
          "height": 574
        },
        "id": "GQuvJmCgXErk",
        "outputId": "e53748bd-5dcf-4920-c022-a59cafff9a96"
      },
      "source": [
        "plt.figure(figsize= (15,8))\n",
        "sns.heatmap(df_ond1.corr(), cmap=\"Blues\", annot= True)"
      ],
      "execution_count": null,
      "outputs": [
        {
          "output_type": "execute_result",
          "data": {
            "text/plain": [
              "<matplotlib.axes._subplots.AxesSubplot at 0x7fb11e95f290>"
            ]
          },
          "metadata": {},
          "execution_count": 23
        },
        {
          "output_type": "display_data",
          "data": {
            "image/png": "[encoded data removed]",
            "text/plain": [
              "<Figure size 1080x576 with 2 Axes>"
            ]
          },
          "metadata": {
            "needs_background": "light"
          }
        }
      ]
    },
    {
      "cell_type": "markdown",
      "metadata": {
        "id": "dJwuql52XErl"
      },
      "source": [
        "## From this visualization, apparent_power highly correlates with current, power_factor.\n",
        "This means that when current increases both apparent_power and power_factor increase likewise.\n",
        "However, current doesn't correlate with real_power, frequency and voltage.\n",
        "In physics, increase in voltage suppose to lead to an increase in current. So there is something wrong here."
      ]
    },
    {
      "cell_type": "code",
      "metadata": {
        "colab": {
          "base_uri": "https://localhost:8080/",
          "height": 454
        },
        "id": "MibyzzY6XErl",
        "outputId": "19212c13-44bb-4ffc-c9a3-18e25f159412"
      },
      "source": [
        "#use groupby and return their exact values..and drop the irrevalant attributes\n",
        "grouped_df = df_ond1.groupby(['year','month','day',\n",
        "                              'hour','minute','second'])\n",
        "grouped_df = grouped_df.first()\n",
        "grouped_df.drop(labels=['week', 'day_of_week',\n",
        "                        'timestamp', 'meter_id'],\n",
        "                axis =1,inplace= True)\n",
        "grouped_df"
      ],
      "execution_count": null,
      "outputs": [
        {
          "output_type": "execute_result",
          "data": {
            "text/html": [
              "<div>\n",
              "<style scoped>\n",
              "    .dataframe tbody tr th:only-of-type {\n",
              "        vertical-align: middle;\n",
              "    }\n",
              "\n",
              "    .dataframe tbody tr th {\n",
              "        vertical-align: top;\n",
              "    }\n",
              "\n",
              "    .dataframe thead th {\n",
              "        text-align: right;\n",
              "    }\n",
              "</style>\n",
              "<table border=\"1\" class=\"dataframe\">\n",
              "  <thead>\n",
              "    <tr style=\"text-align: right;\">\n",
              "      <th></th>\n",
              "      <th></th>\n",
              "      <th></th>\n",
              "      <th></th>\n",
              "      <th></th>\n",
              "      <th></th>\n",
              "      <th>id</th>\n",
              "      <th>current</th>\n",
              "      <th>voltage</th>\n",
              "      <th>frequency</th>\n",
              "      <th>power_factor</th>\n",
              "      <th>energy</th>\n",
              "      <th>real_power</th>\n",
              "      <th>apparent_power</th>\n",
              "    </tr>\n",
              "    <tr>\n",
              "      <th>year</th>\n",
              "      <th>month</th>\n",
              "      <th>day</th>\n",
              "      <th>hour</th>\n",
              "      <th>minute</th>\n",
              "      <th>second</th>\n",
              "      <th></th>\n",
              "      <th></th>\n",
              "      <th></th>\n",
              "      <th></th>\n",
              "      <th></th>\n",
              "      <th></th>\n",
              "      <th></th>\n",
              "      <th></th>\n",
              "    </tr>\n",
              "  </thead>\n",
              "  <tbody>\n",
              "    <tr>\n",
              "      <th rowspan=\"5\" valign=\"top\">2020</th>\n",
              "      <th rowspan=\"5\" valign=\"top\">12</th>\n",
              "      <th rowspan=\"5\" valign=\"top\">20</th>\n",
              "      <th rowspan=\"5\" valign=\"top\">19</th>\n",
              "      <th>37</th>\n",
              "      <th>33</th>\n",
              "      <td>92170</td>\n",
              "      <td>0.00</td>\n",
              "      <td>200.3</td>\n",
              "      <td>49.0</td>\n",
              "      <td>0.00</td>\n",
              "      <td>0.00232</td>\n",
              "      <td>0.000000</td>\n",
              "      <td>0.000</td>\n",
              "    </tr>\n",
              "    <tr>\n",
              "      <th>38</th>\n",
              "      <th>11</th>\n",
              "      <td>92171</td>\n",
              "      <td>0.00</td>\n",
              "      <td>201.2</td>\n",
              "      <td>49.1</td>\n",
              "      <td>0.00</td>\n",
              "      <td>0.00232</td>\n",
              "      <td>0.000000</td>\n",
              "      <td>0.000</td>\n",
              "    </tr>\n",
              "    <tr>\n",
              "      <th>39</th>\n",
              "      <th>24</th>\n",
              "      <td>92172</td>\n",
              "      <td>0.05</td>\n",
              "      <td>201.4</td>\n",
              "      <td>49.3</td>\n",
              "      <td>0.03</td>\n",
              "      <td>0.00235</td>\n",
              "      <td>0.002979</td>\n",
              "      <td>10.070</td>\n",
              "    </tr>\n",
              "    <tr>\n",
              "      <th rowspan=\"2\" valign=\"top\">40</th>\n",
              "      <th>1</th>\n",
              "      <td>92173</td>\n",
              "      <td>0.00</td>\n",
              "      <td>201.5</td>\n",
              "      <td>49.4</td>\n",
              "      <td>0.00</td>\n",
              "      <td>0.00235</td>\n",
              "      <td>0.000000</td>\n",
              "      <td>0.000</td>\n",
              "    </tr>\n",
              "    <tr>\n",
              "      <th>39</th>\n",
              "      <td>92174</td>\n",
              "      <td>0.19</td>\n",
              "      <td>200.9</td>\n",
              "      <td>49.4</td>\n",
              "      <td>0.06</td>\n",
              "      <td>0.00237</td>\n",
              "      <td>0.001572</td>\n",
              "      <td>38.171</td>\n",
              "    </tr>\n",
              "    <tr>\n",
              "      <th>...</th>\n",
              "      <th>...</th>\n",
              "      <th>...</th>\n",
              "      <th>...</th>\n",
              "      <th>...</th>\n",
              "      <th>...</th>\n",
              "      <td>...</td>\n",
              "      <td>...</td>\n",
              "      <td>...</td>\n",
              "      <td>...</td>\n",
              "      <td>...</td>\n",
              "      <td>...</td>\n",
              "      <td>...</td>\n",
              "      <td>...</td>\n",
              "    </tr>\n",
              "    <tr>\n",
              "      <th rowspan=\"5\" valign=\"top\">2021</th>\n",
              "      <th rowspan=\"5\" valign=\"top\">1</th>\n",
              "      <th rowspan=\"5\" valign=\"top\">19</th>\n",
              "      <th rowspan=\"5\" valign=\"top\">10</th>\n",
              "      <th rowspan=\"2\" valign=\"top\">54</th>\n",
              "      <th>9</th>\n",
              "      <td>117600</td>\n",
              "      <td>13.90</td>\n",
              "      <td>243.0</td>\n",
              "      <td>50.2</td>\n",
              "      <td>0.98</td>\n",
              "      <td>313.00394</td>\n",
              "      <td>0.000290</td>\n",
              "      <td>3377.700</td>\n",
              "    </tr>\n",
              "    <tr>\n",
              "      <th>46</th>\n",
              "      <td>117602</td>\n",
              "      <td>13.79</td>\n",
              "      <td>241.4</td>\n",
              "      <td>50.2</td>\n",
              "      <td>0.99</td>\n",
              "      <td>313.03781</td>\n",
              "      <td>0.000297</td>\n",
              "      <td>3328.906</td>\n",
              "    </tr>\n",
              "    <tr>\n",
              "      <th>55</th>\n",
              "      <th>23</th>\n",
              "      <td>117603</td>\n",
              "      <td>13.00</td>\n",
              "      <td>242.1</td>\n",
              "      <td>50.2</td>\n",
              "      <td>1.00</td>\n",
              "      <td>313.07016</td>\n",
              "      <td>0.000318</td>\n",
              "      <td>3147.300</td>\n",
              "    </tr>\n",
              "    <tr>\n",
              "      <th rowspan=\"2\" valign=\"top\">56</th>\n",
              "      <th>0</th>\n",
              "      <td>117604</td>\n",
              "      <td>6.77</td>\n",
              "      <td>243.6</td>\n",
              "      <td>50.2</td>\n",
              "      <td>0.99</td>\n",
              "      <td>313.08694</td>\n",
              "      <td>0.000600</td>\n",
              "      <td>1649.172</td>\n",
              "    </tr>\n",
              "    <tr>\n",
              "      <th>37</th>\n",
              "      <td>117606</td>\n",
              "      <td>6.76</td>\n",
              "      <td>244.1</td>\n",
              "      <td>50.2</td>\n",
              "      <td>0.99</td>\n",
              "      <td>313.10373</td>\n",
              "      <td>0.000600</td>\n",
              "      <td>1650.116</td>\n",
              "    </tr>\n",
              "  </tbody>\n",
              "</table>\n",
              "<p>6528 rows × 8 columns</p>\n",
              "</div>"
            ],
            "text/plain": [
              "                                       id  current  ...  real_power  apparent_power\n",
              "year month day hour minute second                   ...                            \n",
              "2020 12    20  19   37     33       92170     0.00  ...    0.000000           0.000\n",
              "                    38     11       92171     0.00  ...    0.000000           0.000\n",
              "                    39     24       92172     0.05  ...    0.002979          10.070\n",
              "                    40     1        92173     0.00  ...    0.000000           0.000\n",
              "                           39       92174     0.19  ...    0.001572          38.171\n",
              "...                                   ...      ...  ...         ...             ...\n",
              "2021 1     19  10   54     9       117600    13.90  ...    0.000290        3377.700\n",
              "                           46      117602    13.79  ...    0.000297        3328.906\n",
              "                    55     23      117603    13.00  ...    0.000318        3147.300\n",
              "                    56     0       117604     6.77  ...    0.000600        1649.172\n",
              "                           37      117606     6.76  ...    0.000600        1650.116\n",
              "\n",
              "[6528 rows x 8 columns]"
            ]
          },
          "metadata": {},
          "execution_count": 24
        }
      ]
    },
    {
      "cell_type": "code",
      "metadata": {
        "id": "yFJcGRPIXErm"
      },
      "source": [
        "small_data = grouped_df.head() "
      ],
      "execution_count": null,
      "outputs": []
    },
    {
      "cell_type": "code",
      "metadata": {
        "colab": {
          "base_uri": "https://localhost:8080/"
        },
        "id": "gha4zo2WXErm",
        "outputId": "18be8988-5adb-4213-b0db-66369a479546"
      },
      "source": [
        "small_df =grouped_df.sample(frac=0.1)\n",
        "small_df.info()"
      ],
      "execution_count": null,
      "outputs": [
        {
          "output_type": "stream",
          "name": "stdout",
          "text": [
            "<class 'pandas.core.frame.DataFrame'>\n",
            "MultiIndex: 653 entries, (2021, 1, 7, 14, 38, 0) to (2021, 1, 6, 23, 39, 3)\n",
            "Data columns (total 8 columns):\n",
            " #   Column          Non-Null Count  Dtype  \n",
            "---  ------          --------------  -----  \n",
            " 0   id              653 non-null    int64  \n",
            " 1   current         653 non-null    float64\n",
            " 2   voltage         653 non-null    float64\n",
            " 3   frequency       653 non-null    float64\n",
            " 4   power_factor    653 non-null    float64\n",
            " 5   energy          653 non-null    float64\n",
            " 6   real_power      653 non-null    float64\n",
            " 7   apparent_power  653 non-null    float64\n",
            "dtypes: float64(7), int64(1)\n",
            "memory usage: 46.4 KB\n"
          ]
        }
      ]
    },
    {
      "cell_type": "code",
      "metadata": {
        "colab": {
          "base_uri": "https://localhost:8080/",
          "height": 410
        },
        "id": "qp5Q9xykXErm",
        "outputId": "1596eed1-f72c-444d-e1b9-8f0b5dd139aa"
      },
      "source": [
        "#there is a data of apparent_power of over 14,000kVA\n",
        "\n",
        "sns.set(rc= {'figure.figsize': (5,5)})\n",
        "sns.swarmplot (x= small_df['apparent_power'])\n",
        "print(\"The maximum apparent_power is \",small_df['apparent_power'].max())"
      ],
      "execution_count": null,
      "outputs": [
        {
          "output_type": "stream",
          "name": "stderr",
          "text": [
            "/usr/local/lib/python3.7/dist-packages/seaborn/categorical.py:1296: UserWarning: 69.4% of the points cannot be placed; you may want to decrease the size of the markers or use stripplot.\n",
            "  warnings.warn(msg, UserWarning)\n"
          ]
        },
        {
          "output_type": "stream",
          "name": "stdout",
          "text": [
            "The maximum apparent_power is  12512.976\n"
          ]
        },
        {
          "output_type": "display_data",
          "data": {
            "image/png": "[encoded data removed]",
            "text/plain": [
              "<Figure size 360x360 with 1 Axes>"
            ]
          },
          "metadata": {}
        }
      ]
    },
    {
      "cell_type": "markdown",
      "metadata": {
        "id": "uV4rbtrYXErn"
      },
      "source": [
        "The apparent power is between 0-14232.\n",
        "The ones with zero shows that some of the meters didnt read any current or voltage.\n",
        "As the apparent power =I x V. "
      ]
    },
    {
      "cell_type": "code",
      "metadata": {
        "colab": {
          "base_uri": "https://localhost:8080/",
          "height": 410
        },
        "id": "2IoDqCxXXErn",
        "outputId": "a01af90c-1528-41c4-8d6a-c78530db0dce"
      },
      "source": [
        "sns.set(rc= {'figure.figsize': (5,5)})\n",
        "sns.swarmplot (x= small_df['real_power'])\n",
        "print(small_df['real_power'].max())"
      ],
      "execution_count": null,
      "outputs": [
        {
          "output_type": "stream",
          "name": "stderr",
          "text": [
            "/usr/local/lib/python3.7/dist-packages/seaborn/categorical.py:1296: UserWarning: 35.2% of the points cannot be placed; you may want to decrease the size of the markers or use stripplot.\n",
            "  warnings.warn(msg, UserWarning)\n"
          ]
        },
        {
          "output_type": "stream",
          "name": "stdout",
          "text": [
            "inf\n"
          ]
        },
        {
          "output_type": "display_data",
          "data": {
            "image/png": "[encoded data removed]",
            "text/plain": [
              "<Figure size 360x360 with 1 Axes>"
            ]
          },
          "metadata": {}
        }
      ]
    },
    {
      "cell_type": "markdown",
      "metadata": {
        "id": "pP1PqU7bXErn"
      },
      "source": [
        "The real power is between 0-0.015.\n",
        "The ones with zero shows that some of the meters didnt read any current, voltage or power factor.\n",
        "As the apparent power =IxV... ANd real_power = pF x KVA."
      ]
    },
    {
      "cell_type": "raw",
      "metadata": {
        "id": "XuVto_P8XErn"
      },
      "source": [
        "The number of zeros in the following features"
      ]
    },
    {
      "cell_type": "code",
      "metadata": {
        "colab": {
          "base_uri": "https://localhost:8080/"
        },
        "id": "ln1q8oyvXErn",
        "outputId": "f9fce741-6dff-40ce-c2d5-430cedab0143"
      },
      "source": [
        "count_pF = (df_ond1['power_factor'] == 0.00).sum()\n",
        "count_pF "
      ],
      "execution_count": null,
      "outputs": [
        {
          "output_type": "execute_result",
          "data": {
            "text/plain": [
              "38"
            ]
          },
          "metadata": {},
          "execution_count": 29
        }
      ]
    },
    {
      "cell_type": "code",
      "metadata": {
        "colab": {
          "base_uri": "https://localhost:8080/"
        },
        "id": "YIPFCPLTXErn",
        "outputId": "80d98183-47cc-4b35-9e39-83d040359b52"
      },
      "source": [
        "count_current = (df_ond1['current'] == 0.00).sum()\n",
        "count_current"
      ],
      "execution_count": null,
      "outputs": [
        {
          "output_type": "execute_result",
          "data": {
            "text/plain": [
              "40"
            ]
          },
          "metadata": {},
          "execution_count": 30
        }
      ]
    },
    {
      "cell_type": "code",
      "metadata": {
        "colab": {
          "base_uri": "https://localhost:8080/"
        },
        "id": "cU3yNu4-XEro",
        "outputId": "67695b84-991c-4dca-e464-06059c01da1b"
      },
      "source": [
        "count_voltage = (df_ond1['voltage'] == 0.00).sum()\n",
        "count_voltage"
      ],
      "execution_count": null,
      "outputs": [
        {
          "output_type": "execute_result",
          "data": {
            "text/plain": [
              "5"
            ]
          },
          "metadata": {},
          "execution_count": 31
        }
      ]
    },
    {
      "cell_type": "code",
      "metadata": {
        "colab": {
          "base_uri": "https://localhost:8080/"
        },
        "id": "SGg3B-q6XEro",
        "outputId": "00f3c829-8c4f-41a3-8685-e059b13d730d"
      },
      "source": [
        "count_apparent_power = (df_ond1['apparent_power'] == 0.00).sum()\n",
        "count_apparent_power"
      ],
      "execution_count": null,
      "outputs": [
        {
          "output_type": "execute_result",
          "data": {
            "text/plain": [
              "40"
            ]
          },
          "metadata": {},
          "execution_count": 32
        }
      ]
    },
    {
      "cell_type": "code",
      "metadata": {
        "colab": {
          "base_uri": "https://localhost:8080/"
        },
        "id": "TEHnyojrXEro",
        "outputId": "24fefc1c-46b2-4058-b0eb-b1eec219aa9e"
      },
      "source": [
        "count_real_power = (df_ond1['real_power'] == 0.00).sum()\n",
        "count_real_power"
      ],
      "execution_count": null,
      "outputs": [
        {
          "output_type": "execute_result",
          "data": {
            "text/plain": [
              "38"
            ]
          },
          "metadata": {},
          "execution_count": 33
        }
      ]
    },
    {
      "cell_type": "code",
      "metadata": {
        "colab": {
          "base_uri": "https://localhost:8080/",
          "height": 410
        },
        "id": "v1hzaix0XEro",
        "outputId": "c695e8b6-fc0e-423f-e47b-58881fc6e173"
      },
      "source": [
        "##current_visualization\n",
        "\n",
        "sns.set(rc={'figure.figsize':(5,5)})\n",
        "sns.swarmplot(x= small_df['current'])"
      ],
      "execution_count": null,
      "outputs": [
        {
          "output_type": "stream",
          "name": "stderr",
          "text": [
            "/usr/local/lib/python3.7/dist-packages/seaborn/categorical.py:1296: UserWarning: 69.4% of the points cannot be placed; you may want to decrease the size of the markers or use stripplot.\n",
            "  warnings.warn(msg, UserWarning)\n"
          ]
        },
        {
          "output_type": "execute_result",
          "data": {
            "text/plain": [
              "<matplotlib.axes._subplots.AxesSubplot at 0x7fb11554b190>"
            ]
          },
          "metadata": {},
          "execution_count": 34
        },
        {
          "output_type": "display_data",
          "data": {
            "image/png": "[encoded data removed]",
            "text/plain": [
              "<Figure size 360x360 with 1 Axes>"
            ]
          },
          "metadata": {}
        }
      ]
    },
    {
      "cell_type": "code",
      "metadata": {
        "colab": {
          "base_uri": "https://localhost:8080/",
          "height": 520
        },
        "id": "2rHZvNfJXEro",
        "outputId": "e4faa072-56d3-4419-ab93-5c812ef5c9ad"
      },
      "source": [
        "#This plot explains the current distribution better.\n",
        "\n",
        "sns.set(rc={'figure.figsize':(10,8)})\n",
        "sns.kdeplot(small_df['current'], color='r')\n",
        "plt.xlabel('Current (Ampere)')\n",
        "plt.ylabel('Probability Density')"
      ],
      "execution_count": null,
      "outputs": [
        {
          "output_type": "execute_result",
          "data": {
            "text/plain": [
              "Text(0, 0.5, 'Probability Density')"
            ]
          },
          "metadata": {},
          "execution_count": 35
        },
        {
          "output_type": "display_data",
          "data": {
            "image/png": "[encoded data removed]",
            "text/plain": [
              "<Figure size 720x576 with 1 Axes>"
            ]
          },
          "metadata": {}
        }
      ]
    },
    {
      "cell_type": "markdown",
      "metadata": {
        "id": "qHdw9hI-XErp"
      },
      "source": [
        "##This plot shows the distribution of current from 0A- 60A.\n",
        "The current with the highest occurence is around 4A-6A thereabout.\n",
        "This is a very small current."
      ]
    },
    {
      "cell_type": "code",
      "metadata": {
        "colab": {
          "base_uri": "https://localhost:8080/",
          "height": 520
        },
        "id": "_B-rB_X6XErp",
        "outputId": "cde759ad-1c2c-483c-9ffc-4a5ad537d5a5"
      },
      "source": [
        "sns.kdeplot(small_df['voltage'], color='b',\n",
        "            shade=True, Label='Voltage')\n",
        "plt.xlabel('Voltage (Volt)')\n",
        "plt.ylabel('Probability Density')"
      ],
      "execution_count": null,
      "outputs": [
        {
          "output_type": "execute_result",
          "data": {
            "text/plain": [
              "Text(0, 0.5, 'Probability Density')"
            ]
          },
          "metadata": {},
          "execution_count": 36
        },
        {
          "output_type": "display_data",
          "data": {
            "image/png": "[encoded data removed]",
            "text/plain": [
              "<Figure size 720x576 with 1 Axes>"
            ]
          },
          "metadata": {}
        }
      ]
    },
    {
      "cell_type": "markdown",
      "metadata": {
        "id": "PUviyA27XErp"
      },
      "source": [
        "This doesnt capture the 0V because they are very few in number.\n",
        "We can however see that most of our voltage data is around 200V-250V."
      ]
    },
    {
      "cell_type": "code",
      "metadata": {
        "colab": {
          "base_uri": "https://localhost:8080/",
          "height": 392
        },
        "id": "TJZ9by1vXErp",
        "outputId": "9779d67b-fcf4-40a3-cb99-07171ee0691b"
      },
      "source": [
        "#plot frequency..from this plot most meters have 50hz\n",
        "\n",
        "plt.figure(figsize= (8,5))\n",
        "plt.hist(small_df['frequency'], label= 'Frequency')"
      ],
      "execution_count": null,
      "outputs": [
        {
          "output_type": "execute_result",
          "data": {
            "text/plain": [
              "(array([  1.,   0.,   0.,   0.,   0.,   0.,   0.,   0.,   1., 651.]),\n",
              " array([ 0.  ,  5.08, 10.16, 15.24, 20.32, 25.4 , 30.48, 35.56, 40.64,\n",
              "        45.72, 50.8 ]),\n",
              " <a list of 10 Patch objects>)"
            ]
          },
          "metadata": {},
          "execution_count": 37
        },
        {
          "output_type": "display_data",
          "data": {
            "image/png": "[encoded data removed]",
            "text/plain": [
              "<Figure size 576x360 with 1 Axes>"
            ]
          },
          "metadata": {}
        }
      ]
    },
    {
      "cell_type": "code",
      "metadata": {
        "colab": {
          "base_uri": "https://localhost:8080/"
        },
        "id": "-MZoWXIsXErp",
        "outputId": "5118a877-c5d0-430a-a167-121bc1ceb406"
      },
      "source": [
        "print(\"The average frequency is \", small_df['frequency'].median() )\n"
      ],
      "execution_count": null,
      "outputs": [
        {
          "output_type": "stream",
          "name": "stdout",
          "text": [
            "The average frequency is  50.1\n"
          ]
        }
      ]
    },
    {
      "cell_type": "code",
      "metadata": {
        "id": "B-Jowl2QXErp"
      },
      "source": [
        ""
      ],
      "execution_count": null,
      "outputs": []
    }
  ]
}